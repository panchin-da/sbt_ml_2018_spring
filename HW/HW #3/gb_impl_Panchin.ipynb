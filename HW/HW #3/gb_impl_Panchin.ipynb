{
 "cells": [
  {
   "cell_type": "code",
   "execution_count": 2,
   "metadata": {
    "collapsed": true
   },
   "outputs": [],
   "source": [
    "#coding=utf-8\n",
    "\n",
    "from scipy.optimize import minimize, fmin_slsqp\n",
    "from sklearn.base import BaseEstimator\n",
    "from sklearn.tree import DecisionTreeRegressor\n",
    "import numpy as np\n",
    "\n",
    "\n",
    "# Параметрами с которыми вы хотите обучать деревья\n",
    "TREE_PARAMS_DICT = {'max_depth': 4}\n",
    "# Параметр tau (learning_rate) для вашего GB\n",
    "TAU = 0.05\n",
    "\n",
    "\n",
    "def loss_function(y, h):\n",
    "    return sum(np.log(1 + np.exp(-2*y*h))) / len(y)\n",
    "\n",
    "\n",
    "def antigrad(y, h):\n",
    "    return 2*y / (1 + np.exp(2*y*h))\n",
    "\n",
    "class SimpleGB(BaseEstimator):\n",
    "    def __init__(self, tree_params_dict, iters, tau):\n",
    "        self.tree_params_dict = tree_params_dict\n",
    "        self.iters = iters\n",
    "        self.tau = tau\n",
    "        self.estimators = []\n",
    "        \n",
    "    def fit(self, X_data, y_data):\n",
    "        self.base_algo = DecisionTreeRegressor(**self.tree_params_dict, random_state=1)\n",
    "        self.base_algo.fit(X_data, y_data)\n",
    "        curr_pred = self.base_algo.predict(X_data)\n",
    "\n",
    "        for iter_num in range(self.iters):\n",
    "            resid = antigrad(y_data, curr_pred)\n",
    "            algo = DecisionTreeRegressor(**self.tree_params_dict, random_state=1)\n",
    "            algo.fit(X_data, resid)\n",
    "            self.estimators.append(algo)\n",
    "            curr_pred += self.tau * algo.predict(X_data)\n",
    "        return self\n",
    "    \n",
    "    def predict(self, X_data):\n",
    "        # Предсказание на данных\n",
    "        res = self.base_algo.predict(X_data)\n",
    "        for estimator in self.estimators:\n",
    "            res += self.tau * estimator.predict(X_data)\n",
    "        return np.array([1 if x else -1 for x in res > 0.])"
   ]
  },
  {
   "cell_type": "code",
   "execution_count": null,
   "metadata": {
    "collapsed": true
   },
   "outputs": [],
   "source": []
  }
 ],
 "metadata": {
  "anaconda-cloud": {},
  "kernelspec": {
   "display_name": "Python 3",
   "language": "python",
   "name": "python3"
  },
  "language_info": {
   "codemirror_mode": {
    "name": "ipython",
    "version": 3
   },
   "file_extension": ".py",
   "mimetype": "text/x-python",
   "name": "python",
   "nbconvert_exporter": "python",
   "pygments_lexer": "ipython3",
   "version": "3.6.3"
  }
 },
 "nbformat": 4,
 "nbformat_minor": 1
}
