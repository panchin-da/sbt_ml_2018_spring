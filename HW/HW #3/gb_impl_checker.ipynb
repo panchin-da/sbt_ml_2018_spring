{
 "cells": [
  {
   "cell_type": "code",
   "execution_count": 1,
   "metadata": {},
   "outputs": [
    {
     "ename": "ModuleNotFoundError",
     "evalue": "No module named 'gb_impl_Panchin'",
     "output_type": "error",
     "traceback": [
      "\u001b[1;31m---------------------------------------------------------------------------\u001b[0m",
      "\u001b[1;31mModuleNotFoundError\u001b[0m                       Traceback (most recent call last)",
      "\u001b[1;32m<ipython-input-1-c813b6b3549d>\u001b[0m in \u001b[0;36m<module>\u001b[1;34m()\u001b[0m\n\u001b[0;32m      2\u001b[0m \u001b[1;33m\u001b[0m\u001b[0m\n\u001b[0;32m      3\u001b[0m \u001b[1;32mfrom\u001b[0m \u001b[0msklearn\u001b[0m\u001b[1;33m.\u001b[0m\u001b[0mmodel_selection\u001b[0m \u001b[1;32mimport\u001b[0m \u001b[0mcross_val_score\u001b[0m\u001b[1;33m\u001b[0m\u001b[0m\n\u001b[1;32m----> 4\u001b[1;33m \u001b[1;32mfrom\u001b[0m \u001b[0mgb_impl_Panchin\u001b[0m \u001b[1;32mimport\u001b[0m \u001b[0mSimpleGB\u001b[0m\u001b[1;33m\u001b[0m\u001b[0m\n\u001b[0m\u001b[0;32m      5\u001b[0m \u001b[1;32mimport\u001b[0m \u001b[0mnumpy\u001b[0m \u001b[1;32mas\u001b[0m \u001b[0mnp\u001b[0m\u001b[1;33m\u001b[0m\u001b[0m\n\u001b[0;32m      6\u001b[0m \u001b[1;32mimport\u001b[0m \u001b[0mos\u001b[0m\u001b[1;33m\u001b[0m\u001b[0m\n",
      "\u001b[1;31mModuleNotFoundError\u001b[0m: No module named 'gb_impl_Panchin'"
     ]
    }
   ],
   "source": [
    "# coding=utf-8\n",
    "\n",
    "from sklearn.model_selection import cross_val_score\n",
    "from gb_impl_Panchin import SimpleGB\n",
    "import numpy as np\n",
    "import os\n",
    "import sys\n",
    "import imp\n",
    "import signal\n",
    "import pandas\n",
    "import traceback\n",
    "\n",
    "SCRIPT_DIR = os.path.dirname(os.path.realpath(__file__))\n",
    "\n",
    "\n",
    "def signal_handler(signum, frame):\n",
    "    raise Exception(\"Timed out!\")\n",
    "\n",
    "\n",
    "class Checker(object):\n",
    "    def __init__(self, data_path=SCRIPT_DIR + '/HR.csv'):\n",
    "        df = pandas.read_csv(data_path)\n",
    "        target = 'left'\n",
    "        features = [c for c in df if c != target]\n",
    "        self.target = np.array(df[target])\n",
    "        self.data = np.array(df[features])\n",
    "        self.application = 0\n",
    "\n",
    "    def check(self, script_path):\n",
    "        try:\n",
    "            signal.signal(signal.SIGALRM, signal_handler)\n",
    "            # Time limit на эту задачу 1 минута\n",
    "            signal.alarm(60)\n",
    "            gb_impl = imp.load_source('gb_impl_{}'.format(self.application), script_path)\n",
    "            self.application += 1\n",
    "            # Обучаться будет на 100 итерациях, чтобы одинаковый масштаб был\n",
    "            algo = gb_impl.SimpleGB(\n",
    "                tree_params_dict=gb_impl.TREE_PARAMS_DICT,\n",
    "                iters=100,\n",
    "                tau=gb_impl.TAU\n",
    "            )\n",
    "            return np.mean(cross_val_score(algo, self.data, self.target, cv=3, scoring='accuracy'))\n",
    "        except:\n",
    "            traceback.print_exc()\n",
    "            return None\n",
    "\n",
    "\n",
    "if __name__ == '__main__':\n",
    "    print(Checker().check(SCRIPT_DIR + '/gb_impl_Panchin.py'))"
   ]
  },
  {
   "cell_type": "code",
   "execution_count": null,
   "metadata": {
    "collapsed": true
   },
   "outputs": [],
   "source": []
  }
 ],
 "metadata": {
  "kernelspec": {
   "display_name": "Python 3",
   "language": "python",
   "name": "python3"
  },
  "language_info": {
   "codemirror_mode": {
    "name": "ipython",
    "version": 3
   },
   "file_extension": ".py",
   "mimetype": "text/x-python",
   "name": "python",
   "nbconvert_exporter": "python",
   "pygments_lexer": "ipython3",
   "version": "3.6.3"
  }
 },
 "nbformat": 4,
 "nbformat_minor": 1
}
